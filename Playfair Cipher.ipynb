{
 "cells": [
  {
   "cell_type": "code",
   "execution_count": 12,
   "id": "a349c1ec",
   "metadata": {},
   "outputs": [],
   "source": [
    "def create_matrix(key):\n",
    "    key = key.upper()\n",
    "    matrix = [[0 for i in range (5)] for j in range(5)]\n",
    "    letters_added = []\n",
    "    row = 0\n",
    "    col = 0\n",
    "    for letter in key:\n",
    "        if letter not in letters_added:\n",
    "            matrix[row][col] = letter\n",
    "            letters_added.append(letter)\n",
    "        else:\n",
    "            continue\n",
    "        if (col==4):\n",
    "            col = 0\n",
    "            row += 1\n",
    "        else:\n",
    "            col += 1\n",
    "    for letter in range(65,91):\n",
    "        if letter==74: # I/J are in the same position\n",
    "                continue\n",
    "        if chr(letter) not in letters_added:\n",
    "            letters_added.append(chr(letter))\n",
    "    index = 0\n",
    "    for i in range(5):\n",
    "        for j in range(5):\n",
    "            matrix[i][j] = letters_added[index]\n",
    "            index+=1\n",
    "    return matrix\n",
    "def separate_same_letters(message):\n",
    "    index = 0\n",
    "    dumind = []\n",
    "    while (index<len(message)):\n",
    "        l1 = message[index]\n",
    "        if index == len(message)-1:\n",
    "            message = message + 'X'\n",
    "            index += 2\n",
    "            continue\n",
    "        l2 = message[index+1]\n",
    "        if l1==l2:\n",
    "            message = message[:index+1] + \"X\" + message[index+1:]\n",
    "            dumind.append(index+1)\n",
    "        index +=2\n",
    "    return message, dumind\n",
    "\n",
    "def indexOf(letter,matrix):\n",
    "    for i in range (5):\n",
    "        try:\n",
    "            index = matrix[i].index(letter)\n",
    "            return (i,index)\n",
    "        except:\n",
    "            continue\n",
    "def playfair(key, message, encrypt=True):\n",
    "    inc = 1\n",
    "    if encrypt==False:\n",
    "        inc = -1\n",
    "    matrix = create_matrix(key)\n",
    "    message = message.upper()\n",
    "    message = message.replace(' ','')    \n",
    "    message, dumind = separate_same_letters(message)\n",
    "    cipher_text=''\n",
    "    for (l1, l2) in zip(message[0::2], message[1::2]):\n",
    "        row1,col1 = indexOf(l1,matrix)\n",
    "        row2,col2 = indexOf(l2,matrix)\n",
    "        if row1==row2: #Rule 2, the letters are in the same row\n",
    "            cipher_text += matrix[row1][(col1+inc)%5] + matrix[row2][(col2+inc)%5]\n",
    "        elif col1==col2:# Rule 3, the letters are in the same column\n",
    "            cipher_text += matrix[(row1+inc)%5][col1] + matrix[(row2+inc)%5][col2]\n",
    "        else: #Rule 4, the letters are in a different row and column\n",
    "            cipher_text += matrix[row1][col2] + matrix[row2][col1]\n",
    "    return cipher_text, matrix, dumind"
   ]
  },
  {
   "cell_type": "code",
   "execution_count": 15,
   "id": "0f6c3e4c",
   "metadata": {},
   "outputs": [],
   "source": [
    "text = input(\"Enter text:\")\n",
    "cipher_text, key, dumind = playfair('secret', text)\n",
    "plain_text, key1, dumind1= playfair('secret',cipher_text,False)"
   ]
  },
  {
   "cell_type": "code",
   "execution_count": 16,
   "outputs": [
    {
     "data": {
      "text/plain": "[3]"
     },
     "execution_count": 16,
     "metadata": {},
     "output_type": "execute_result"
    }
   ],
   "source": [
    "dumind"
   ],
   "metadata": {
    "collapsed": false
   }
  },
  {
   "cell_type": "code",
   "execution_count": 19,
   "outputs": [],
   "source": [
    "import numpy as np\n",
    "key = np.array(key)"
   ],
   "metadata": {
    "collapsed": false
   }
  },
  {
   "cell_type": "markdown",
   "source": [
    "## Remove Dummy element from decrypted text"
   ],
   "metadata": {
    "collapsed": false
   }
  },
  {
   "cell_type": "code",
   "execution_count": 17,
   "outputs": [
    {
     "data": {
      "text/plain": "'BALLOON'"
     },
     "execution_count": 17,
     "metadata": {},
     "output_type": "execute_result"
    }
   ],
   "source": [
    "for i in range (0,len(dumind)):\n",
    "    remindx = dumind[i]\n",
    "    dectext = plain_text[:remindx] + plain_text[remindx+1:]\n",
    "dectext"
   ],
   "metadata": {
    "collapsed": false
   }
  },
  {
   "cell_type": "code",
   "execution_count": 20,
   "outputs": [
    {
     "name": "stdout",
     "output_type": "stream",
     "text": [
      "Original Text:  balloon\n",
      "Key:  [['S' 'E' 'C' 'R' 'T']\n",
      " ['A' 'B' 'D' 'F' 'G']\n",
      " ['H' 'I' 'K' 'L' 'M']\n",
      " ['N' 'O' 'P' 'Q' 'U']\n",
      " ['V' 'W' 'X' 'Y' 'Z']]\n",
      "Cipher Text:  DBKYIQPO\n",
      "Plain Text:  BALLOON\n"
     ]
    }
   ],
   "source": [
    "print('Original Text: ', text)\n",
    "print('Key: ', key)\n",
    "print(\"Cipher Text: \" ,cipher_text)\n",
    "print(\"Decrypted Text: \" ,dectext)"
   ],
   "metadata": {
    "collapsed": false
   }
  },
  {
   "cell_type": "code",
   "execution_count": null,
   "outputs": [],
   "source": [],
   "metadata": {
    "collapsed": false
   }
  }
 ],
 "metadata": {
  "kernelspec": {
   "display_name": "Python 3 (ipykernel)",
   "language": "python",
   "name": "python3"
  },
  "language_info": {
   "codemirror_mode": {
    "name": "ipython",
    "version": 3
   },
   "file_extension": ".py",
   "mimetype": "text/x-python",
   "name": "python",
   "nbconvert_exporter": "python",
   "pygments_lexer": "ipython3",
   "version": "3.9.7"
  }
 },
 "nbformat": 4,
 "nbformat_minor": 5
}
