{
 "cells": [
  {
   "cell_type": "markdown",
   "id": "1224a229",
   "metadata": {},
   "source": [
    "## Vigenere Cipher"
   ]
  },
  {
   "cell_type": "code",
   "execution_count": 1,
   "id": "ce4cccda",
   "metadata": {},
   "outputs": [],
   "source": [
    "def vigenere(key, message):\n",
    "    message = message.lower()\n",
    "    message = message.replace(' ','')\n",
    "    m = len(key)\n",
    "    cipher_text = ''\n",
    "    for i in range(len(message)):\n",
    "        letter = message[i]\n",
    "        k = key[i % m] \n",
    "        cipher_text = cipher_text + chr((ord(letter) - 97 + k ) % 26 + 97)\n",
    "    return cipher_text"
   ]
  },
  {
   "cell_type": "code",
   "execution_count": 2,
   "id": "5464b94e",
   "metadata": {},
   "outputs": [
    {
     "name": "stdout",
     "output_type": "stream",
     "text": [
      "Enter Key:go\n",
      "Enter text:hello\n",
      "cipher text:  nsrzu\n",
      "Plain text:  hello\n"
     ]
    }
   ],
   "source": [
    "key = input(\"Enter Key:\")\n",
    "key = [ord(letter)-97 for letter in key]\n",
    "text = input(\"Enter text:\")\n",
    "cipher_text = vigenere(key, text)\n",
    "print ('cipher text: ',cipher_text)\n",
    "key = [-1*k for k in key]\n",
    "plain_text =  vigenere(key, cipher_text)\n",
    "print ('Plain text: ', plain_text)"
   ]
  }
 ],
 "metadata": {
  "kernelspec": {
   "display_name": "Python 3 (ipykernel)",
   "language": "python",
   "name": "python3"
  },
  "language_info": {
   "codemirror_mode": {
    "name": "ipython",
    "version": 3
   },
   "file_extension": ".py",
   "mimetype": "text/x-python",
   "name": "python",
   "nbconvert_exporter": "python",
   "pygments_lexer": "ipython3",
   "version": "3.9.7"
  }
 },
 "nbformat": 4,
 "nbformat_minor": 5
}
